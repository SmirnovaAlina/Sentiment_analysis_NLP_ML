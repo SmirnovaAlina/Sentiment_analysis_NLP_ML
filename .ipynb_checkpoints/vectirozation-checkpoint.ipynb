{
 "cells": [
  {
   "cell_type": "code",
   "execution_count": 1,
   "metadata": {},
   "outputs": [],
   "source": [
    "import pandas as pd "
   ]
  },
  {
   "cell_type": "code",
   "execution_count": 2,
   "metadata": {},
   "outputs": [],
   "source": [
    "df_NLP = pd.read_csv('united_csv')"
   ]
  },
  {
   "cell_type": "code",
   "execution_count": 3,
   "metadata": {},
   "outputs": [
    {
     "data": {
      "text/html": [
       "<div>\n",
       "<style scoped>\n",
       "    .dataframe tbody tr th:only-of-type {\n",
       "        vertical-align: middle;\n",
       "    }\n",
       "\n",
       "    .dataframe tbody tr th {\n",
       "        vertical-align: top;\n",
       "    }\n",
       "\n",
       "    .dataframe thead th {\n",
       "        text-align: right;\n",
       "    }\n",
       "</style>\n",
       "<table border=\"1\" class=\"dataframe\">\n",
       "  <thead>\n",
       "    <tr style=\"text-align: right;\">\n",
       "      <th></th>\n",
       "      <th>reviewText</th>\n",
       "      <th>Class</th>\n",
       "    </tr>\n",
       "  </thead>\n",
       "  <tbody>\n",
       "    <tr>\n",
       "      <th>0</th>\n",
       "      <td>Not much to write about here, but it does exac...</td>\n",
       "      <td>positive</td>\n",
       "    </tr>\n",
       "    <tr>\n",
       "      <th>1</th>\n",
       "      <td>The product does exactly as it should and is q...</td>\n",
       "      <td>positive</td>\n",
       "    </tr>\n",
       "    <tr>\n",
       "      <th>2</th>\n",
       "      <td>The primary job of this device is to block the...</td>\n",
       "      <td>positive</td>\n",
       "    </tr>\n",
       "    <tr>\n",
       "      <th>3</th>\n",
       "      <td>Nice windscreen protects my MXL mic and preven...</td>\n",
       "      <td>positive</td>\n",
       "    </tr>\n",
       "    <tr>\n",
       "      <th>4</th>\n",
       "      <td>This pop filter is great. It looks and perform...</td>\n",
       "      <td>positive</td>\n",
       "    </tr>\n",
       "  </tbody>\n",
       "</table>\n",
       "</div>"
      ],
      "text/plain": [
       "                                          reviewText     Class\n",
       "0  Not much to write about here, but it does exac...  positive\n",
       "1  The product does exactly as it should and is q...  positive\n",
       "2  The primary job of this device is to block the...  positive\n",
       "3  Nice windscreen protects my MXL mic and preven...  positive\n",
       "4  This pop filter is great. It looks and perform...  positive"
      ]
     },
     "execution_count": 3,
     "metadata": {},
     "output_type": "execute_result"
    }
   ],
   "source": [
    "df_NLP.head()"
   ]
  },
  {
   "cell_type": "code",
   "execution_count": 4,
   "metadata": {},
   "outputs": [],
   "source": [
    "from sklearn.model_selection import train_test_split\n",
    "data_train, data_test, y_train, y_test = train_test_split(df_NLP.reviewText, df_NLP.Class, \n",
    "                                                          test_size = 0.20, random_state = 12)"
   ]
  },
  {
   "cell_type": "code",
   "execution_count": 5,
   "metadata": {},
   "outputs": [
    {
     "name": "stdout",
     "output_type": "stream",
     "text": [
      "Pretty printing has been turned OFF\n"
     ]
    }
   ],
   "source": [
    "from sklearn.feature_extraction.text import CountVectorizer\n",
    "%pprint\n",
    "import nltk"
   ]
  },
  {
   "cell_type": "code",
   "execution_count": 6,
   "metadata": {},
   "outputs": [],
   "source": [
    "review_vzer = CountVectorizer(min_df=2, tokenizer=nltk.word_tokenize)"
   ]
  },
  {
   "cell_type": "code",
   "execution_count": 8,
   "metadata": {},
   "outputs": [
    {
     "data": {
      "text/plain": [
       "12794    Well, between the 10 or 11 (depending on your ...\n",
       "12174    I was a huge fan of DM albums like Music for t...\n",
       "6975     I love pedal trains because they are lightweig...\n",
       "5870     very quick shipping, it works perfectly, I was...\n",
       "21863    Where for the first four songs your ready to w...\n",
       "850      I only use Dunlops. For a number of reasons. F...\n",
       "21658    So are the tenties the new nineties? Sainthood...\n",
       "15824    Tweet's debut, \"Southern Hummingbird\" is drab,...\n",
       "3306     My favorite strings for about 3 years now, i l...\n",
       "20998    its time to let it go emie, you were never goo...\n",
       "13169    I would like to start by saying that I'm one o...\n",
       "13294    Considered a disaster upon it's release, LONDO...\n",
       "5822     BOTTOM LINE UP FRONT: The Behringer VT999 Vint...\n",
       "17352    I love Saves the Day.  I really do.  The music...\n",
       "20560    There are some redeaming songs here (\"you and ...\n",
       "16558    I was thinking 50 could be one of the very few...\n",
       "16198    the way you feel this depends on what style of...\n",
       "20521    Smashing Pumpkins-Zeitgeist ***I must say this...\n",
       "22177    got to hear this album and usually i check out...\n",
       "15834    3 1/2For those who like a little more death wi...\n",
       "2801     Honestly, the strings are great. They sound gr...\n",
       "17496    I adore Eurythmics.  Any utterance from the th...\n",
       "18560    If you don't understand what I mean in my titl...\n",
       "22487    First, I'm what you call an eclectic music lov...\n",
       "17338    I admit she can sing yes but right now I just ...\n",
       "18545    She falls into the R&B cliche of singing about...\n",
       "15957    This is the first Eminem album I have, and thi...\n",
       "13162    the next album &#34;strictly 4 my...&#34; is w...\n",
       "9897     I got one of these from another source but hav...\n",
       "2523     I got this to install it on a podium. It is pe...\n",
       "                               ...                        \n",
       "13782    I have been raising pennies to purchase this a...\n",
       "12735    Carefully packaged anger,cliche attitude,the i...\n",
       "11383    How can ANYONE say this is the best rap-metal ...\n",
       "22174    glad daryl is happy now in his life, congratul...\n",
       "7585     Both of the stands had parts that had fallen o...\n",
       "4515     Sounds and feels nice. I have an entry level g...\n",
       "15460    this album is okay, but i feel that fabolous t...\n",
       "4030     my guitar strap was old, I replaced it with th...\n",
       "9507     This is a very useful tuner since it's small, ...\n",
       "4178     This pedal essentialy balances out the high, m...\n",
       "15629    Here it is. Another sell out rapper that makes...\n",
       "19660    I was under the assumption that this is a soft...\n",
       "17512    The girl has a rude &amp; condescending attitu...\n",
       "11637    Taking an artistic risk is typical for Joe Jac...\n",
       "5194     Order just in time to replace my microphones t...\n",
       "9846     This 6-Pack of Guitar Patch Cables are great f...\n",
       "8651     I couldn't be happier with this pedal. I have ...\n",
       "8610     This is definately worth the money. I was look...\n",
       "20953    Four of us (two adults and two teenagers) have...\n",
       "20109    I find it quite unfortunate that with every re...\n",
       "16261    Erykah Badu is hands down one of the most infl...\n",
       "16308    This has got to be one of the biggest disappoi...\n",
       "278      It is very well made, is easy to use, and hold...\n",
       "12108    There r 2 good songs on here. If you wanna fin...\n",
       "9475     This tuner works great! I am not able to vouch...\n",
       "3714     For 10 bucks this is great, very sturdy and re...\n",
       "7409     ... but not great either. The \"needle\" never s...\n",
       "19709    So it's February 2005 and I get an email from ...\n",
       "5787     I spent a lot of time on Amazon reading review...\n",
       "14155    I don't think that Fiona Apple's sophmore rele...\n",
       "Name: reviewText, Length: 18280, dtype: object"
      ]
     },
     "execution_count": 8,
     "metadata": {},
     "output_type": "execute_result"
    }
   ],
   "source": [
    "data_train"
   ]
  },
  {
   "cell_type": "code",
   "execution_count": 10,
   "metadata": {},
   "outputs": [
    {
     "ename": "AttributeError",
     "evalue": "'Series' object has no attribute 'value'",
     "output_type": "error",
     "traceback": [
      "\u001b[0;31m---------------------------------------------------------------------------\u001b[0m",
      "\u001b[0;31mAttributeError\u001b[0m                            Traceback (most recent call last)",
      "\u001b[0;32m<ipython-input-10-f2add16cec14>\u001b[0m in \u001b[0;36m<module>\u001b[0;34m\u001b[0m\n\u001b[0;32m----> 1\u001b[0;31m \u001b[0mdata_train_counts\u001b[0m \u001b[0;34m=\u001b[0m \u001b[0mreview_vzer\u001b[0m\u001b[0;34m.\u001b[0m\u001b[0mfit_transform\u001b[0m\u001b[0;34m(\u001b[0m\u001b[0mdata_train\u001b[0m\u001b[0;34m.\u001b[0m\u001b[0mvalue\u001b[0m\u001b[0;34m)\u001b[0m\u001b[0;34m\u001b[0m\u001b[0;34m\u001b[0m\u001b[0m\n\u001b[0m",
      "\u001b[0;32m~/anaconda3/lib/python3.7/site-packages/pandas/core/generic.py\u001b[0m in \u001b[0;36m__getattr__\u001b[0;34m(self, name)\u001b[0m\n\u001b[1;32m   5065\u001b[0m             \u001b[0;32mif\u001b[0m \u001b[0mself\u001b[0m\u001b[0;34m.\u001b[0m\u001b[0m_info_axis\u001b[0m\u001b[0;34m.\u001b[0m\u001b[0m_can_hold_identifiers_and_holds_name\u001b[0m\u001b[0;34m(\u001b[0m\u001b[0mname\u001b[0m\u001b[0;34m)\u001b[0m\u001b[0;34m:\u001b[0m\u001b[0;34m\u001b[0m\u001b[0;34m\u001b[0m\u001b[0m\n\u001b[1;32m   5066\u001b[0m                 \u001b[0;32mreturn\u001b[0m \u001b[0mself\u001b[0m\u001b[0;34m[\u001b[0m\u001b[0mname\u001b[0m\u001b[0;34m]\u001b[0m\u001b[0;34m\u001b[0m\u001b[0;34m\u001b[0m\u001b[0m\n\u001b[0;32m-> 5067\u001b[0;31m             \u001b[0;32mreturn\u001b[0m \u001b[0mobject\u001b[0m\u001b[0;34m.\u001b[0m\u001b[0m__getattribute__\u001b[0m\u001b[0;34m(\u001b[0m\u001b[0mself\u001b[0m\u001b[0;34m,\u001b[0m \u001b[0mname\u001b[0m\u001b[0;34m)\u001b[0m\u001b[0;34m\u001b[0m\u001b[0;34m\u001b[0m\u001b[0m\n\u001b[0m\u001b[1;32m   5068\u001b[0m \u001b[0;34m\u001b[0m\u001b[0m\n\u001b[1;32m   5069\u001b[0m     \u001b[0;32mdef\u001b[0m \u001b[0m__setattr__\u001b[0m\u001b[0;34m(\u001b[0m\u001b[0mself\u001b[0m\u001b[0;34m,\u001b[0m \u001b[0mname\u001b[0m\u001b[0;34m,\u001b[0m \u001b[0mvalue\u001b[0m\u001b[0;34m)\u001b[0m\u001b[0;34m:\u001b[0m\u001b[0;34m\u001b[0m\u001b[0;34m\u001b[0m\u001b[0m\n",
      "\u001b[0;31mAttributeError\u001b[0m: 'Series' object has no attribute 'value'"
     ]
    }
   ],
   "source": [
    "data_train_counts = review_vzer.fit_transform(data_train.value)"
   ]
  },
  {
   "cell_type": "code",
   "execution_count": null,
   "metadata": {},
   "outputs": [],
   "source": []
  }
 ],
 "metadata": {
  "kernelspec": {
   "display_name": "Python 3",
   "language": "python",
   "name": "python3"
  },
  "language_info": {
   "codemirror_mode": {
    "name": "ipython",
    "version": 3
   },
   "file_extension": ".py",
   "mimetype": "text/x-python",
   "name": "python",
   "nbconvert_exporter": "python",
   "pygments_lexer": "ipython3",
   "version": "3.7.3"
  }
 },
 "nbformat": 4,
 "nbformat_minor": 2
}
